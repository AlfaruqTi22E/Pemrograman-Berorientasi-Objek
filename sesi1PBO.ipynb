{
  "nbformat": 4,
  "nbformat_minor": 0,
  "metadata": {
    "colab": {
      "provenance": [],
      "authorship_tag": "ABX9TyNZ23wo3sxZZ/Pd+65jWDkr",
      "include_colab_link": true
    },
    "kernelspec": {
      "name": "python3",
      "display_name": "Python 3"
    },
    "language_info": {
      "name": "python"
    }
  },
  "cells": [
    {
      "cell_type": "markdown",
      "metadata": {
        "id": "view-in-github",
        "colab_type": "text"
      },
      "source": [
        "<a href=\"https://colab.research.google.com/github/AlfaruqTi22E/Pemrograman-Berorientasi-Objek/blob/main/sesi1PBO.ipynb\" target=\"_parent\"><img src=\"https://colab.research.google.com/assets/colab-badge.svg\" alt=\"Open In Colab\"/></a>"
      ]
    },
    {
      "cell_type": "code",
      "execution_count": null,
      "metadata": {
        "id": "GenQKtdnTCl9"
      },
      "outputs": [],
      "source": [
        "\n",
        "import java.util.Scanner;\n",
        "\n",
        "public class Main {\n",
        "    public static void main(String[] args) {\n",
        "        Scanner input = new Scanner(System.in);\n",
        "\n",
        "        // Konversi Suhu\n",
        "        System.out.print(\"Masukkan suhu dalam reamur: \");\n",
        "        double reamur = input.nextDouble();\n",
        "        double celcius = reamur * 5 / 4;\n",
        "        double fahrenheit = reamur * 9 / 4 + 32;\n",
        "        double kelvin = reamur * 5 / 4 + 273.15;\n",
        "        System.out.println(\"Suhu dalam celcius: \" + celcius + \"°C\");\n",
        "        System.out.println(\"Suhu dalam fahrenheit: \" + fahrenheit + \"°F\");\n",
        "        System.out.println(\"Suhu dalam kelvin: \" + kelvin + \"K\");\n",
        "\n",
        "        // Hitung Umur\n",
        "        System.out.print(\"Masukkan tahun lahir Anda: \");\n",
        "        int tahunLahir = input.nextInt();\n",
        "        final int TAHUN_SEKARANG = 2024;\n",
        "        int umur = TAHUN_SEKARANG - tahunLahir;\n",
        "        System.out.println(\"Umur Anda adalah: \" + umur + \" tahun\");\n",
        "\n",
        "        // Segitiga\n",
        "        System.out.print(\"Masukkan panjang alas segitiga: \");\n",
        "        double alas = input.nextDouble();\n",
        "        System.out.print(\"Masukkan tinggi segitiga: \");\n",
        "        double tinggi = input.nextDouble();\n",
        "        System.out.print(\"Masukkan panjang sisi miring segitiga: \");\n",
        "        double sisiMiring = input.nextDouble();\n",
        "        double luas = alas * tinggi / 2;\n",
        "        double keliling = alas + tinggi + sisiMiring;\n",
        "        System.out.println(\"Luas segitiga adalah: \" + luas + \" satuan luas\");\n",
        "        System.out.println(\"Keliling segitiga adalah: \" + keliling + \" satuan panjang\");\n",
        "\n",
        "        // Tutup scanner\n",
        "        input.close();\n",
        "    }\n",
        "}"
      ]
    }
  ]
}